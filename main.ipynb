{
 "cells": [
  {
   "cell_type": "code",
   "execution_count": 1,
   "metadata": {},
   "outputs": [],
   "source": [
    "import pandas"
   ]
  },
  {
   "cell_type": "code",
   "execution_count": 2,
   "metadata": {},
   "outputs": [],
   "source": [
    "data = pandas.read_csv('house-prices.csv')\n",
    "data_arr = data.values"
   ]
  },
  {
   "cell_type": "markdown",
   "metadata": {},
   "source": [
    "## Extrac columns with missing values"
   ]
  },
  {
   "cell_type": "markdown",
   "metadata": {},
   "source": [
    "### Create a `check_nan()` function"
   ]
  },
  {
   "cell_type": "code",
   "execution_count": 3,
   "metadata": {},
   "outputs": [],
   "source": [
    "def check_nan(value) -> bool:\n",
    "    return (value != value)"
   ]
  },
  {
   "cell_type": "markdown",
   "metadata": {},
   "source": [
    "### Print the column names with missing values"
   ]
  },
  {
   "cell_type": "code",
   "execution_count": 4,
   "metadata": {},
   "outputs": [
    {
     "name": "stdout",
     "output_type": "stream",
     "text": [
      "['Alley', 'FireplaceQu', 'PoolQC', 'Fence', 'MiscFeature', 'MasVnrType', 'BsmtQual', 'BsmtCond', 'BsmtExposure', 'BsmtFinType1', 'BsmtFinType2', 'LotFrontage', 'GarageType', 'GarageYrBlt', 'GarageFinish', 'GarageQual', 'GarageCond', 'MasVnrArea']\n"
     ]
    }
   ],
   "source": [
    "feature = data.columns.values.tolist()\n",
    "def list_column_with_missing_values(data, feature) -> list:\n",
    "    result = []\n",
    "    for row in data:\n",
    "        for index, column in enumerate(row):\n",
    "            if check_nan(column):\n",
    "                if feature[index] not in result:\n",
    "                    result.append(feature[index])\n",
    "    return result\n",
    "\n",
    "print(list_column_with_missing_values(data_arr, feature))"
   ]
  },
  {
   "cell_type": "markdown",
   "metadata": {},
   "source": [
    "## Count the number of lines with missing values"
   ]
  },
  {
   "cell_type": "code",
   "execution_count": 5,
   "metadata": {},
   "outputs": [
    {
     "name": "stdout",
     "output_type": "stream",
     "text": [
      "There are 1000 lines with missing values\n"
     ]
    }
   ],
   "source": [
    "def count_line_with_missing_values(data) -> int:\n",
    "    result = 0\n",
    "    for row in data:\n",
    "        for column in row:\n",
    "            if check_nan(column):\n",
    "                result += 1\n",
    "                break\n",
    "    return result\n",
    "\n",
    "print(f\"There are {count_line_with_missing_values(data_arr)} lines with missing values\")"
   ]
  },
  {
   "cell_type": "markdown",
   "metadata": {},
   "source": [
    "## Fill in the missing value using mean, median (for numeric properties) and mode (for categorical properties)"
   ]
  },
  {
   "cell_type": "markdown",
   "metadata": {},
   "source": [
    "### Divide features into numeric and categorical"
   ]
  },
  {
   "cell_type": "code",
   "execution_count": 6,
   "metadata": {},
   "outputs": [],
   "source": [
    "def categorizing_feature(data, feature) -> list:\n",
    "    num_feature = feature.copy()\n",
    "    cat_feature = []\n",
    "    for row in data:\n",
    "        for index, column in enumerate(row):\n",
    "            if type(column) == str and feature[index] not in cat_feature:\n",
    "                cat_feature.append(feature[index])\n",
    "                num_feature.remove(feature[index])\n",
    "                break\n",
    "    return cat_feature, num_feature\n",
    "\n",
    "cat_feature, num_feature = categorizing_feature(data_arr, feature)    "
   ]
  },
  {
   "cell_type": "markdown",
   "metadata": {},
   "source": [
    "### Fill in the missing values "
   ]
  },
  {
   "cell_type": "code",
   "execution_count": 9,
   "metadata": {},
   "outputs": [
    {
     "data": {
      "text/plain": [
       "array([[1242, 20, 'RL', ..., 'New', 'Partial', 248328],\n",
       "       [1233, 90, 'RL', ..., 'WD', 'Normal', 101800],\n",
       "       [1401, 50, 'RM', ..., 'WD', 'Normal', 120000],\n",
       "       ...,\n",
       "       [990, 60, 'FV', ..., 'New', 'Partial', 197000],\n",
       "       [982, 60, 'RL', ..., 'WD', 'Normal', 336000],\n",
       "       [862, 190, 'RL', ..., 'WD', 'Normal', 131500]], dtype=object)"
      ]
     },
     "execution_count": 9,
     "metadata": {},
     "output_type": "execute_result"
    }
   ],
   "source": [
    "data_arr"
   ]
  },
  {
   "cell_type": "code",
   "execution_count": 8,
   "metadata": {},
   "outputs": [
    {
     "name": "stdout",
     "output_type": "stream",
     "text": [
      "[0, 1, 3, 4, 17, 18, 19, 20, 26, 34, 36, 37, 38, 43, 44, 45, 46, 47, 48, 49, 50, 51, 52, 54, 56, 59, 61, 62, 66, 67, 68, 69, 70, 71, 72, 75, 76, 77, 80]\n"
     ]
    }
   ],
   "source": [
    "def fill_in(data, feature, num_feature, cat_feature, method) -> None:\n",
    "    if method == 'mean' or method == 'median':\n",
    "        feature_index = [index for index, feature in enumerate(feature) if feature in num_feature]\n",
    "        print(feature_index)\n",
    "    elif method == 'mode':\n",
    "        feature_index = [index for index, feature in enumerate(feature) if feature in cat_feature]\n",
    "        print(feature_index)\n",
    "    else:\n",
    "        raise ValueError('Method must be mean, median, or mode')\n",
    "    \n",
    "fill_in(data_arr, feature, num_feature, cat_feature, 'mean')"
   ]
  }
 ],
 "metadata": {
  "kernelspec": {
   "display_name": "Python 3",
   "language": "python",
   "name": "python3"
  },
  "language_info": {
   "codemirror_mode": {
    "name": "ipython",
    "version": 3
   },
   "file_extension": ".py",
   "mimetype": "text/x-python",
   "name": "python",
   "nbconvert_exporter": "python",
   "pygments_lexer": "ipython3",
   "version": "3.11.1"
  }
 },
 "nbformat": 4,
 "nbformat_minor": 2
}
