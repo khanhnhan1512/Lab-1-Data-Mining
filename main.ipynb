{
 "cells": [
  {
   "cell_type": "code",
   "execution_count": 48,
   "metadata": {},
   "outputs": [],
   "source": [
    "import pandas"
   ]
  },
  {
   "cell_type": "code",
   "execution_count": 49,
   "metadata": {},
   "outputs": [],
   "source": [
    "df = pandas.read_csv('house-prices.csv')\n",
    "data = df.to_dict(orient='list')"
   ]
  },
  {
   "cell_type": "markdown",
   "metadata": {},
   "source": [
    "## Extrac columns with missing values"
   ]
  },
  {
   "cell_type": "markdown",
   "metadata": {},
   "source": [
    "### Create a `check_nan()` function"
   ]
  },
  {
   "cell_type": "code",
   "execution_count": 50,
   "metadata": {},
   "outputs": [],
   "source": [
    "def is_nan(value) -> bool:\n",
    "    return (value != value)"
   ]
  },
  {
   "cell_type": "markdown",
   "metadata": {},
   "source": [
    "### Print the column names with missing values"
   ]
  },
  {
   "cell_type": "code",
   "execution_count": 51,
   "metadata": {},
   "outputs": [
    {
     "name": "stdout",
     "output_type": "stream",
     "text": [
      "['LotFrontage', 'Alley', 'MasVnrType', 'MasVnrArea', 'BsmtQual', 'BsmtCond', 'BsmtExposure', 'BsmtFinType1', 'BsmtFinType2', 'FireplaceQu', 'GarageType', 'GarageYrBlt', 'GarageFinish', 'GarageQual', 'GarageCond', 'PoolQC', 'Fence', 'MiscFeature']\n"
     ]
    }
   ],
   "source": [
    "def extract_column(data) -> list:\n",
    "    result = []\n",
    "    for feature in data.keys():\n",
    "        for value in data[feature]:\n",
    "            if is_nan(value):\n",
    "                result.append(feature)\n",
    "                break\n",
    "    return result\n",
    "\n",
    "print(extract_column(data))"
   ]
  },
  {
   "cell_type": "markdown",
   "metadata": {},
   "source": [
    "## Count the number of lines with missing values"
   ]
  },
  {
   "cell_type": "code",
   "execution_count": 52,
   "metadata": {},
   "outputs": [
    {
     "name": "stdout",
     "output_type": "stream",
     "text": [
      "There are 1000 lines with missing values\n"
     ]
    }
   ],
   "source": [
    "def count_line_with_missing_values(data) -> int:\n",
    "    index_empty_row = set()\n",
    "    for feature in data.keys():\n",
    "        for index,value in enumerate(data[feature]):\n",
    "            if is_nan(value):\n",
    "                index_empty_row.add(index)\n",
    "    return len(index_empty_row)\n",
    "\n",
    "print(f\"There are {count_line_with_missing_values(data)} lines with missing values\")"
   ]
  },
  {
   "cell_type": "markdown",
   "metadata": {},
   "source": [
    "## Fill in the missing value using mean, median (for numeric properties) and mode (for categorical properties)"
   ]
  },
  {
   "cell_type": "markdown",
   "metadata": {},
   "source": [
    "### Divide features into numeric and categorical"
   ]
  },
  {
   "cell_type": "code",
   "execution_count": 53,
   "metadata": {},
   "outputs": [],
   "source": [
    "def categorizing_feature(data) -> list:\n",
    "    num_feature = [feature for feature in extract_column(data)]\n",
    "    cat_feature = []\n",
    "    for feature in num_feature:\n",
    "        for value in data[feature]:\n",
    "            if type(value) == str:\n",
    "                cat_feature.append(feature)\n",
    "                num_feature.remove(feature)\n",
    "                break\n",
    "    return num_feature, cat_feature\n",
    "   "
   ]
  },
  {
   "cell_type": "markdown",
   "metadata": {},
   "source": [
    "### Find the rows with missing values for each column"
   ]
  },
  {
   "cell_type": "code",
   "execution_count": 54,
   "metadata": {},
   "outputs": [],
   "source": [
    "def index_empty_row(data, column) -> list:\n",
    "    result = []\n",
    "    for index in range(len(data[column])):\n",
    "        if is_nan(data[column][index]):\n",
    "            result.append(index)\n",
    "    return result"
   ]
  },
  {
   "cell_type": "markdown",
   "metadata": {},
   "source": [
    "### Fill in the missing values "
   ]
  },
  {
   "cell_type": "code",
   "execution_count": 55,
   "metadata": {},
   "outputs": [
    {
     "name": "stdout",
     "output_type": "stream",
     "text": [
      "['LotFrontage', 'MasVnrType', 'MasVnrArea', 'BsmtCond', 'BsmtFinType1', 'FireplaceQu', 'GarageYrBlt', 'GarageQual', 'PoolQC', 'MiscFeature']\n",
      "63.0\n"
     ]
    }
   ],
   "source": [
    "def fill_in(data, method, column) -> None:\n",
    "  num_attr, cate_attr = categorizing_feature(data)\n",
    "  empty_row = index_empty_row(data, column)\n",
    "  print(num_attr)\n",
    "  if method == 'mean':\n",
    "    if column not in num_attr:\n",
    "      raise ValueError('Column must be numerical')\n",
    "    else:\n",
    "      for index in empty_row:\n",
    "        data[column][index] = 0\n",
    "      missing_value = sum(data[column]) / len(data[column])    \n",
    "  elif method == 'median':\n",
    "      if column not in num_attr:\n",
    "        raise ValueError('Column must be numerical')\n",
    "      else:\n",
    "        not_empty_row = [data[column][i] for i in range(len(data[column])) if i not in empty_row]\n",
    "        number_not_empty_row = len(not_empty_row)\n",
    "        if number_not_empty_row % 2 == 0:\n",
    "          missing_value = (not_empty_row[number_not_empty_row/2] + not_empty_row[number_not_empty_row/2 - 1])/2\n",
    "        else:\n",
    "          missing_value = not_empty_row[number_not_empty_row//2]\n",
    "  elif method == 'mod':\n",
    "    if column not in cate_attr:\n",
    "      raise ValueError('Column must be categorical')\n",
    "    else:\n",
    "      pass\n",
    "  else:\n",
    "      raise ValueError('Method must be mean, median, or mode')\n",
    "  # Fill missing value\n",
    "  print(missing_value)\n",
    "  for index in empty_row:\n",
    "    data[column][index] = missing_value\n",
    "    \n",
    "    \n",
    "fill_in(data, 'median', 'LotFrontage')"
   ]
  }
 ],
 "metadata": {
  "kernelspec": {
   "display_name": "Python 3",
   "language": "python",
   "name": "python3"
  },
  "language_info": {
   "codemirror_mode": {
    "name": "ipython",
    "version": 3
   },
   "file_extension": ".py",
   "mimetype": "text/x-python",
   "name": "python",
   "nbconvert_exporter": "python",
   "pygments_lexer": "ipython3",
   "version": "3.11.1"
  }
 },
 "nbformat": 4,
 "nbformat_minor": 2
}
